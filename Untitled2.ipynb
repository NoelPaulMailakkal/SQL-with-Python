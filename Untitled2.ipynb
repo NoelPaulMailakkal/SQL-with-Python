{
  "nbformat": 4,
  "nbformat_minor": 0,
  "metadata": {
    "colab": {
      "name": "Untitled2.ipynb",
      "provenance": [],
      "authorship_tag": "ABX9TyPEkm7+qsqKLvXqoa2ndXtT",
      "include_colab_link": true
    },
    "kernelspec": {
      "name": "python3",
      "display_name": "Python 3"
    },
    "language_info": {
      "name": "python"
    }
  },
  "cells": [
    {
      "cell_type": "markdown",
      "metadata": {
        "id": "view-in-github",
        "colab_type": "text"
      },
      "source": [
        "<a href=\"https://colab.research.google.com/github/NoelPaulMailakkal/SQL-with-Python/blob/main/Untitled2.ipynb\" target=\"_parent\"><img src=\"https://colab.research.google.com/assets/colab-badge.svg\" alt=\"Open In Colab\"/></a>"
      ]
    },
    {
      "cell_type": "code",
      "execution_count": null,
      "metadata": {
        "colab": {
          "base_uri": "https://localhost:8080/"
        },
        "id": "QK1_fFp90qRG",
        "outputId": "b61e4a09-63a2-4420-ddc5-bdc3c6678764"
      },
      "outputs": [
        {
          "output_type": "stream",
          "name": "stdout",
          "text": [
            "Opened database successfully\n"
          ]
        }
      ],
      "source": [
        "import sqlite3\n",
        "conn = sqlite3.connect('test.db')\n",
        "print (\"Opened database successfully\")"
      ]
    },
    {
      "cell_type": "code",
      "source": [
        "conn = sqlite3.connect('NeDB.db')\n",
        "cursor = conn.cursor()\n",
        "\n",
        "\n",
        "cursor.execute(\"DROP TABLE IF EXISTS EMPLOYEE\")\n",
        "\n",
        "X= '''CREATE TABLE IF NOT EXISTS projects (\n",
        "\tid integer PRIMARY KEY,\n",
        "\tname text NOT NULL,\n",
        "\tbegin_date text,\n",
        "\tend_date text\n",
        "); '''\n",
        "conn.execute(X)\n",
        "print(\"Table created\")\n",
        " \n",
        "conn.commit()\n",
        "\n",
        " \n",
        "conn.close()"
      ],
      "metadata": {
        "colab": {
          "base_uri": "https://localhost:8080/"
        },
        "id": "EdoLZxR91FrB",
        "outputId": "c29f81f0-bd1b-4824-8bea-b1f9100c8441"
      },
      "execution_count": null,
      "outputs": [
        {
          "output_type": "stream",
          "name": "stdout",
          "text": [
            "Table created\n"
          ]
        }
      ]
    },
    {
      "cell_type": "code",
      "source": [
        "import sqlite3\n",
        "\n",
        " \n",
        "X = sqlite3.connect('NeDB.db')\n",
        " \n",
        "Y = X.cursor()\n",
        "\n",
        " \n",
        "Y.execute('''CREATE TABLE Employee(date text, First_Name text, Last_Name text, Age real)''')\n",
        "\n",
        " \n",
        "Y.execute(\"INSERT INTO Employee VALUES ('2020-01-01','John','Adam',32)\")\n",
        " \n",
        "X.commit()\n",
        "\n",
        "Y.close()"
      ],
      "metadata": {
        "id": "Y97QsqHv6Y2e"
      },
      "execution_count": null,
      "outputs": []
    },
    {
      "cell_type": "code",
      "source": [
        "import sqlite3\n",
        "\n",
        " \n",
        "X = sqlite3.connect('NeDB.db')\n",
        "Y = X.cursor()\n",
        " \n",
        "#Y.execute('''CREATE TABLE Employee(date text, First_Name text, Last_Name text, Age real)''')\n",
        "\n",
        " \n",
        "Y.execute(\"INSERT INTO Employee VALUES ('2020-01-01','John','Adam',32),('2020-01-01','Mike','Joseph',30),('2020-01-01','Ann','Maria',32);\")\n",
        "\n",
        " \n",
        "X.commit()\n",
        "Y.close()"
      ],
      "metadata": {
        "id": "hCDJRNMg9zS4"
      },
      "execution_count": null,
      "outputs": []
    },
    {
      "cell_type": "code",
      "source": [
        " \n",
        "import sqlite3\n",
        " \n",
        "conn = sqlite3.connect('NewDB.db')\n",
        "\n",
        " \n",
        "cursor = conn.cursor()\n",
        "\n",
        " \n",
        "table =\"\"\"CREATE TABLE STUDENT(NAME VARCHAR(255), CLASS VARCHAR(255), SECTION VARCHAR(255));\"\"\"\n",
        "cursor.execute(table)\n",
        "\n",
        "\n",
        "cursor.execute('''INSERT INTO STUDENT VALUES ('John', '8', 'A')''')\n",
        "cursor.execute('''INSERT INTO STUDENT VALUES ('Adam', '8', 'B')''')\n",
        "cursor.execute('''INSERT INTO STUDENT VALUES ('Ann', '10', 'A')''')\n",
        "\n",
        "\n",
        "print(\"Data Inserted in the table: \")\n",
        "data=cursor.execute('''SELECT * FROM STUDENT''')\n",
        "for row in data:\n",
        "\tprint(row)\n",
        "\n",
        "\n",
        "conn.commit()\n",
        "\n",
        "conn.close()"
      ],
      "metadata": {
        "colab": {
          "base_uri": "https://localhost:8080/"
        },
        "id": "dT4UVNeJ-Oee",
        "outputId": "b952276b-db7c-4654-f2ef-41a7676d0902"
      },
      "execution_count": null,
      "outputs": [
        {
          "output_type": "stream",
          "name": "stdout",
          "text": [
            "Data Inserted in the table: \n",
            "('John', '8', 'A')\n",
            "('Adam', '8', 'B')\n",
            "('Ann', '10', 'A')\n"
          ]
        }
      ]
    },
    {
      "cell_type": "code",
      "source": [
        " \n",
        "import sqlite3\n",
        " \n",
        "conn = sqlite3.connect('NewDB.db1')\n",
        "\n",
        " \n",
        "cursor = conn.cursor()\n",
        "\n",
        " \n",
        "table =\"\"\"CREATE TABLE STUDENT(NAME VARCHAR(255), CLASS VARCHAR(255), SECTION VARCHAR(255));\"\"\"\n",
        "cursor.execute(table)\n",
        "\n",
        "\n",
        "cursor.execute('''INSERT INTO STUDENT VALUES ('John', '8', 'A')''')\n",
        "cursor.execute('''INSERT INTO STUDENT VALUES ('Adam', '8', 'B')''')\n",
        "cursor.execute('''INSERT INTO STUDENT VALUES ('Ann', '10', 'A')''')\n",
        "\n",
        "\n",
        "cursor.execute(\"SELECT * FROM STUDENT WHERE CLASS = '10'\")\n",
        "\n",
        "print(cursor.fetchall())\n",
        "  \n",
        "conn.commit()\n",
        "conn.close()\n",
        "\n",
        "\n",
        "conn.close()"
      ],
      "metadata": {
        "colab": {
          "base_uri": "https://localhost:8080/"
        },
        "id": "zXXVrXeRDH_7",
        "outputId": "458151c1-ee37-4139-d477-ce5ce771f9ec"
      },
      "execution_count": 12,
      "outputs": [
        {
          "output_type": "stream",
          "name": "stdout",
          "text": [
            "[('Ann', '10', 'A')]\n"
          ]
        }
      ]
    },
    {
      "cell_type": "code",
      "source": [
        " \n",
        "import sqlite3\n",
        " \n",
        "conn = sqlite3.connect('NewDB.db2')\n",
        "\n",
        " \n",
        "cursor = conn.cursor()\n",
        "\n",
        " \n",
        "table =\"\"\"CREATE TABLE STUDENT(NAME VARCHAR(255), CLASS VARCHAR(255), SECTION VARCHAR(255));\"\"\"\n",
        "cursor.execute(table)\n",
        "\n",
        "\n",
        "cursor.execute('''INSERT INTO STUDENT VALUES ('John', '8', 'A')''')\n",
        "cursor.execute('''INSERT INTO STUDENT VALUES ('Adam', '8', 'B')''')\n",
        "cursor.execute('''INSERT INTO STUDENT VALUES ('Ann', '10', 'A')''')\n",
        "\n",
        "\n",
        "cursor.execute(\"SELECT * FROM STUDENT WHERE NAME Like'A%'\")\n",
        "\n",
        "print(cursor.fetchall())\n",
        "  \n",
        "conn.commit()\n",
        "conn.close()\n",
        "\n",
        "\n",
        "conn.close()"
      ],
      "metadata": {
        "id": "2cJvp4hGDNMd",
        "colab": {
          "base_uri": "https://localhost:8080/"
        },
        "outputId": "9ab5eec8-0912-4745-a485-3bfdd07e1c24"
      },
      "execution_count": 14,
      "outputs": [
        {
          "output_type": "stream",
          "name": "stdout",
          "text": [
            "[('Adam', '8', 'B'), ('Ann', '10', 'A')]\n"
          ]
        }
      ]
    },
    {
      "cell_type": "code",
      "source": [
        " \n",
        "import sqlite3\n",
        " \n",
        "conn = sqlite3.connect('NewDB.db3')\n",
        "\n",
        " \n",
        "cursor = conn.cursor()\n",
        "\n",
        " \n",
        "table =\"\"\"CREATE TABLE STUDENT(NAME VARCHAR(255), CLASS VARCHAR(255), SECTION VARCHAR(255));\"\"\"\n",
        "cursor.execute(table)\n",
        "\n",
        "\n",
        "cursor.execute('''INSERT INTO STUDENT VALUES ('John', '8', 'A')''')\n",
        "cursor.execute('''INSERT INTO STUDENT VALUES ('Adam', '8', 'B')''')\n",
        "cursor.execute('''INSERT INTO STUDENT VALUES ('Ann', '10', 'A')''')\n",
        "\n",
        "\n",
        "cursor.execute(\"SELECT * FROM STUDENT ORDER BY NAME DESC\")\n",
        "\n",
        "print(cursor.fetchall())\n",
        "  \n",
        "conn.commit()\n",
        "conn.close()\n",
        "\n",
        "\n",
        "conn.close()"
      ],
      "metadata": {
        "colab": {
          "base_uri": "https://localhost:8080/"
        },
        "id": "ppiKnQaCG3kz",
        "outputId": "5f168f0e-3d55-4186-da22-f4b0aff04e04"
      },
      "execution_count": 15,
      "outputs": [
        {
          "output_type": "stream",
          "name": "stdout",
          "text": [
            "[('John', '8', 'A'), ('Ann', '10', 'A'), ('Adam', '8', 'B')]\n"
          ]
        }
      ]
    },
    {
      "cell_type": "code",
      "source": [
        " \n",
        "import sqlite3\n",
        " \n",
        "conn = sqlite3.connect('NewDB.db4')\n",
        "\n",
        " \n",
        "cursor = conn.cursor()\n",
        "\n",
        " \n",
        "table =\"\"\"CREATE TABLE STUDENT(NAME VARCHAR(255), CLASS VARCHAR(255), SECTION VARCHAR(255));\"\"\"\n",
        "cursor.execute(table)\n",
        "\n",
        "\n",
        "cursor.execute('''INSERT INTO STUDENT VALUES ('John', '8', 'A')''')\n",
        "cursor.execute('''INSERT INTO STUDENT VALUES ('Adam', '8', 'B')''')\n",
        "cursor.execute('''INSERT INTO STUDENT VALUES ('Ann', '10', 'A')''')\n",
        "\n",
        "\n",
        "cursor.execute(\"SELECT NAME, CLASS FROM STUDENT ORDER BY NAME DESC\")\n",
        "\n",
        "print(cursor.fetchall())\n",
        "  \n",
        "conn.commit()\n",
        "conn.close()\n",
        "\n",
        "\n",
        "conn.close()"
      ],
      "metadata": {
        "colab": {
          "base_uri": "https://localhost:8080/"
        },
        "id": "Ia0tm6f7G5Sf",
        "outputId": "5ebd2310-555f-4da7-869a-f31bd7552e4a"
      },
      "execution_count": 17,
      "outputs": [
        {
          "output_type": "stream",
          "name": "stdout",
          "text": [
            "[('John', '8'), ('Ann', '10'), ('Adam', '8')]\n"
          ]
        }
      ]
    },
    {
      "cell_type": "code",
      "source": [
        ""
      ],
      "metadata": {
        "id": "IlSNLIz9HAKm"
      },
      "execution_count": null,
      "outputs": []
    }
  ]
}